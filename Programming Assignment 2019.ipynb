{
 "cells": [
  {
   "cell_type": "markdown",
   "metadata": {},
   "source": [
    "# **Assignment 2019**\n",
    "\n",
    "# **Programming for Data Analysis**\n",
    "--------------"
   ]
  },
  {
   "cell_type": "markdown",
   "metadata": {},
   "source": [
    "## ***Purpose of numpy.random Package***"
   ]
  },
  {
   "cell_type": "markdown",
   "metadata": {},
   "source": [
    "The numpy.random package is use for the generation of random numbers and integers. \n",
    "Whenever you want to generate an array of random numbers you need to use numpy.random . numpy has the numpy.random package which has multiple functions to generate the random n-dimensional array for various distributions"
   ]
  },
  {
   "cell_type": "markdown",
   "metadata": {},
   "source": [
    "## ***Use of Simple Random Data Functions***\n"
   ]
  },
  {
   "cell_type": "markdown",
   "metadata": {},
   "source": [
    "There are six simple random data functions which can be seen from the image below. \n",
    "![Simple Random Data](https://github.com/LauraBrogan/programming-assignment-2019/blob/master/SimpleRandomDataImage.jpg)\n",
    "\n"
   ]
  },
  {
   "cell_type": "markdown",
   "metadata": {},
   "source": [
    "## ***Use of Permutations Functions***"
   ]
  },
  {
   "cell_type": "markdown",
   "metadata": {},
   "source": [
    "There are Two permutation functions in the numbpy.random package\n",
    "\t\n",
    "\n",
    "[shuffle(x)](https://docs.scipy.org/doc/numpy-1.16.0/reference/generated/numpy.random.shuffle.html#numpy.random.shuffle)  Modify a sequence in-place by shuffling its contents.\n",
    "\n",
    "[permutation(x)](https://docs.scipy.org/doc/numpy-1.16.0/reference/generated/numpy.random.permutation.html#numpy.random.permutation)    Randomly permute a sequence, or return a permuted range.\n",
    "\n",
    "Shuffle(x) this will give your random numbers given the defined x in a random order as shown in the below code.\n",
    "\n"
   ]
  },
  {
   "cell_type": "code",
   "execution_count": 21,
   "metadata": {},
   "outputs": [
    {
     "data": {
      "text/plain": [
       "array([26, 36,  8, 80, 41, 96, 34, 75, 52, 84, 91, 65, 13, 72, 17, 79, 53,\n",
       "       98,  0, 20, 39, 78, 99, 12, 81, 21,  2, 10, 63, 66, 90, 46, 56,  1,\n",
       "       74, 33, 15,  4, 23, 16, 97, 37, 83, 27, 93, 48, 85, 62, 40, 50, 32,\n",
       "       45, 59, 61, 57, 55, 58,  6, 51, 71, 38, 70,  9, 44, 30, 86, 19, 92,\n",
       "       43, 29, 89, 77, 82, 73, 14, 69, 47,  7, 87, 35, 31, 18, 68, 24, 49,\n",
       "       54,  5, 11, 22, 60, 28, 94, 76, 25, 42, 95,  3, 64, 88, 67])"
      ]
     },
     "execution_count": 21,
     "metadata": {},
     "output_type": "execute_result"
    }
   ],
   "source": [
    "import numpy as np\n",
    "arr = np.arange(100)\n",
    "np.random.shuffle(arr)\n",
    "arr"
   ]
  },
  {
   "cell_type": "markdown",
   "metadata": {},
   "source": [
    "## ***Use and Purpose of Distribution Functions***\n",
    "I will explain the use and purpose of the following five Disctibution Functions.\n",
    "1. ?\n",
    "2. ?\n",
    "3. ?\n",
    "4. ?\n",
    "5. ?"
   ]
  },
  {
   "cell_type": "markdown",
   "metadata": {},
   "source": [
    "### 1. ? ###"
   ]
  },
  {
   "cell_type": "markdown",
   "metadata": {},
   "source": [
    "### 2. ? ###"
   ]
  },
  {
   "cell_type": "markdown",
   "metadata": {},
   "source": [
    "### 3. ? ###"
   ]
  },
  {
   "cell_type": "markdown",
   "metadata": {},
   "source": [
    "### 4. ? ###"
   ]
  },
  {
   "cell_type": "markdown",
   "metadata": {},
   "source": [
    "### 5. ? ###"
   ]
  },
  {
   "cell_type": "markdown",
   "metadata": {},
   "source": [
    "## ***Use of Seeds in Generating Pseudorandom Numbers***"
   ]
  },
  {
   "cell_type": "markdown",
   "metadata": {},
   "source": [
    "## ***References***\n",
    "https://pynative.com/python-random-module/"
   ]
  },
  {
   "cell_type": "markdown",
   "metadata": {},
   "source": [
    "#### *Laura Brogan 2019* ###"
   ]
  },
  {
   "cell_type": "code",
   "execution_count": null,
   "metadata": {},
   "outputs": [],
   "source": []
  },
  {
   "cell_type": "code",
   "execution_count": null,
   "metadata": {},
   "outputs": [],
   "source": []
  }
 ],
 "metadata": {
  "kernelspec": {
   "display_name": "Python 3",
   "language": "python",
   "name": "python3"
  },
  "language_info": {
   "codemirror_mode": {
    "name": "ipython",
    "version": 3
   },
   "file_extension": ".py",
   "mimetype": "text/x-python",
   "name": "python",
   "nbconvert_exporter": "python",
   "pygments_lexer": "ipython3",
   "version": "3.7.1"
  }
 },
 "nbformat": 4,
 "nbformat_minor": 2
}
